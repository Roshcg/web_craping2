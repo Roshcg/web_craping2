{
 "cells": [
  {
   "cell_type": "code",
   "execution_count": 1,
   "id": "e4592db5",
   "metadata": {},
   "outputs": [],
   "source": [
    "import pandas as pd\n"
   ]
  },
  {
   "cell_type": "code",
   "execution_count": 2,
   "id": "e66261c2",
   "metadata": {},
   "outputs": [],
   "source": [
    "df = pd.read_csv('scraped_cars.csv')"
   ]
  },
  {
   "cell_type": "code",
   "execution_count": 3,
   "id": "12e1ffea",
   "metadata": {},
   "outputs": [
    {
     "data": {
      "text/html": [
       "<div>\n",
       "<style scoped>\n",
       "    .dataframe tbody tr th:only-of-type {\n",
       "        vertical-align: middle;\n",
       "    }\n",
       "\n",
       "    .dataframe tbody tr th {\n",
       "        vertical-align: top;\n",
       "    }\n",
       "\n",
       "    .dataframe thead th {\n",
       "        text-align: right;\n",
       "    }\n",
       "</style>\n",
       "<table border=\"1\" class=\"dataframe\">\n",
       "  <thead>\n",
       "    <tr style=\"text-align: right;\">\n",
       "      <th></th>\n",
       "      <th>name</th>\n",
       "      <th>mpg</th>\n",
       "      <th>cylinders</th>\n",
       "      <th>horse_power</th>\n",
       "      <th>weight</th>\n",
       "      <th>acceleration</th>\n",
       "      <th>year</th>\n",
       "      <th>country</th>\n",
       "      <th>displacement</th>\n",
       "    </tr>\n",
       "  </thead>\n",
       "  <tbody>\n",
       "    <tr>\n",
       "      <th>0</th>\n",
       "      <td>Chevrolet Chevelle Malibu</td>\n",
       "      <td>18.0</td>\n",
       "      <td>8</td>\n",
       "      <td>130.0</td>\n",
       "      <td>3504</td>\n",
       "      <td>12.0</td>\n",
       "      <td>1970</td>\n",
       "      <td>USA</td>\n",
       "      <td>7.0</td>\n",
       "    </tr>\n",
       "    <tr>\n",
       "      <th>1</th>\n",
       "      <td>Buick Skylark 320</td>\n",
       "      <td>15.0</td>\n",
       "      <td>8</td>\n",
       "      <td>165.0</td>\n",
       "      <td>3693</td>\n",
       "      <td>11.5</td>\n",
       "      <td>1970</td>\n",
       "      <td>USA</td>\n",
       "      <td>0.0</td>\n",
       "    </tr>\n",
       "    <tr>\n",
       "      <th>2</th>\n",
       "      <td>Plymouth Satellite</td>\n",
       "      <td>18.0</td>\n",
       "      <td>8</td>\n",
       "      <td>150.0</td>\n",
       "      <td>3436</td>\n",
       "      <td>11.0</td>\n",
       "      <td>1970</td>\n",
       "      <td>USA</td>\n",
       "      <td>8.0</td>\n",
       "    </tr>\n",
       "    <tr>\n",
       "      <th>3</th>\n",
       "      <td>Amc Rebel Sst</td>\n",
       "      <td>16.0</td>\n",
       "      <td>8</td>\n",
       "      <td>150.0</td>\n",
       "      <td>3433</td>\n",
       "      <td>12.0</td>\n",
       "      <td>1970</td>\n",
       "      <td>USA</td>\n",
       "      <td>4.0</td>\n",
       "    </tr>\n",
       "    <tr>\n",
       "      <th>4</th>\n",
       "      <td>Ford Torino</td>\n",
       "      <td>17.0</td>\n",
       "      <td>8</td>\n",
       "      <td>140.0</td>\n",
       "      <td>3449</td>\n",
       "      <td>10.5</td>\n",
       "      <td>1970</td>\n",
       "      <td>USA</td>\n",
       "      <td>2.0</td>\n",
       "    </tr>\n",
       "  </tbody>\n",
       "</table>\n",
       "</div>"
      ],
      "text/plain": [
       "                        name   mpg  cylinders  horse_power  weight  \\\n",
       "0  Chevrolet Chevelle Malibu  18.0          8        130.0    3504   \n",
       "1          Buick Skylark 320  15.0          8        165.0    3693   \n",
       "2         Plymouth Satellite  18.0          8        150.0    3436   \n",
       "3              Amc Rebel Sst  16.0          8        150.0    3433   \n",
       "4                Ford Torino  17.0          8        140.0    3449   \n",
       "\n",
       "   acceleration  year country  displacement  \n",
       "0          12.0  1970     USA           7.0  \n",
       "1          11.5  1970     USA           0.0  \n",
       "2          11.0  1970     USA           8.0  \n",
       "3          12.0  1970     USA           4.0  \n",
       "4          10.5  1970     USA           2.0  "
      ]
     },
     "execution_count": 3,
     "metadata": {},
     "output_type": "execute_result"
    }
   ],
   "source": [
    "df.head()"
   ]
  },
  {
   "cell_type": "code",
   "execution_count": 7,
   "id": "e82a9498",
   "metadata": {},
   "outputs": [
    {
     "data": {
      "text/html": [
       "<div>\n",
       "<style scoped>\n",
       "    .dataframe tbody tr th:only-of-type {\n",
       "        vertical-align: middle;\n",
       "    }\n",
       "\n",
       "    .dataframe tbody tr th {\n",
       "        vertical-align: top;\n",
       "    }\n",
       "\n",
       "    .dataframe thead th {\n",
       "        text-align: right;\n",
       "    }\n",
       "</style>\n",
       "<table border=\"1\" class=\"dataframe\">\n",
       "  <thead>\n",
       "    <tr style=\"text-align: right;\">\n",
       "      <th></th>\n",
       "      <th>name</th>\n",
       "      <th>mpg</th>\n",
       "      <th>cylinders</th>\n",
       "      <th>horse_power</th>\n",
       "      <th>weight</th>\n",
       "      <th>acceleration</th>\n",
       "      <th>year</th>\n",
       "      <th>country</th>\n",
       "      <th>displacement</th>\n",
       "    </tr>\n",
       "  </thead>\n",
       "  <tbody>\n",
       "    <tr>\n",
       "      <th>239</th>\n",
       "      <td>Ford Thunderbird</td>\n",
       "      <td>16.0</td>\n",
       "      <td>8</td>\n",
       "      <td>149.0</td>\n",
       "      <td>4335</td>\n",
       "      <td>14.5</td>\n",
       "      <td>1977</td>\n",
       "      <td>USA</td>\n",
       "      <td>1.0</td>\n",
       "    </tr>\n",
       "    <tr>\n",
       "      <th>316</th>\n",
       "      <td>Vw Rabbit</td>\n",
       "      <td>41.5</td>\n",
       "      <td>4</td>\n",
       "      <td>76.0</td>\n",
       "      <td>2144</td>\n",
       "      <td>14.7</td>\n",
       "      <td>1980</td>\n",
       "      <td>Europe</td>\n",
       "      <td>8.0</td>\n",
       "    </tr>\n",
       "    <tr>\n",
       "      <th>29</th>\n",
       "      <td>Bmw 2002</td>\n",
       "      <td>26.0</td>\n",
       "      <td>4</td>\n",
       "      <td>113.0</td>\n",
       "      <td>2234</td>\n",
       "      <td>12.5</td>\n",
       "      <td>1970</td>\n",
       "      <td>Europe</td>\n",
       "      <td>1.0</td>\n",
       "    </tr>\n",
       "    <tr>\n",
       "      <th>167</th>\n",
       "      <td>Buick Century</td>\n",
       "      <td>17.0</td>\n",
       "      <td>6</td>\n",
       "      <td>110.0</td>\n",
       "      <td>3907</td>\n",
       "      <td>21.0</td>\n",
       "      <td>1975</td>\n",
       "      <td>USA</td>\n",
       "      <td>1.0</td>\n",
       "    </tr>\n",
       "    <tr>\n",
       "      <th>336</th>\n",
       "      <td>Honda Civic 1500 Gl</td>\n",
       "      <td>44.6</td>\n",
       "      <td>4</td>\n",
       "      <td>67.0</td>\n",
       "      <td>1850</td>\n",
       "      <td>13.8</td>\n",
       "      <td>1980</td>\n",
       "      <td>Japan</td>\n",
       "      <td>1.0</td>\n",
       "    </tr>\n",
       "    <tr>\n",
       "      <th>153</th>\n",
       "      <td>Dodge Colt</td>\n",
       "      <td>28.0</td>\n",
       "      <td>4</td>\n",
       "      <td>75.0</td>\n",
       "      <td>2125</td>\n",
       "      <td>14.5</td>\n",
       "      <td>1974</td>\n",
       "      <td>USA</td>\n",
       "      <td>0.0</td>\n",
       "    </tr>\n",
       "    <tr>\n",
       "      <th>87</th>\n",
       "      <td>Ford Pinto (Sw)</td>\n",
       "      <td>22.0</td>\n",
       "      <td>4</td>\n",
       "      <td>86.0</td>\n",
       "      <td>2395</td>\n",
       "      <td>16.0</td>\n",
       "      <td>1972</td>\n",
       "      <td>USA</td>\n",
       "      <td>2.0</td>\n",
       "    </tr>\n",
       "    <tr>\n",
       "      <th>205</th>\n",
       "      <td>Honda Civic</td>\n",
       "      <td>33.0</td>\n",
       "      <td>4</td>\n",
       "      <td>53.0</td>\n",
       "      <td>1795</td>\n",
       "      <td>17.4</td>\n",
       "      <td>1976</td>\n",
       "      <td>Japan</td>\n",
       "      <td>1.0</td>\n",
       "    </tr>\n",
       "    <tr>\n",
       "      <th>156</th>\n",
       "      <td>Honda Civic</td>\n",
       "      <td>24.0</td>\n",
       "      <td>4</td>\n",
       "      <td>97.0</td>\n",
       "      <td>2489</td>\n",
       "      <td>15.0</td>\n",
       "      <td>1974</td>\n",
       "      <td>Japan</td>\n",
       "      <td>0.0</td>\n",
       "    </tr>\n",
       "    <tr>\n",
       "      <th>43</th>\n",
       "      <td>Ford Torino 500</td>\n",
       "      <td>19.0</td>\n",
       "      <td>6</td>\n",
       "      <td>88.0</td>\n",
       "      <td>3302</td>\n",
       "      <td>15.5</td>\n",
       "      <td>1971</td>\n",
       "      <td>USA</td>\n",
       "      <td>0.0</td>\n",
       "    </tr>\n",
       "  </tbody>\n",
       "</table>\n",
       "</div>"
      ],
      "text/plain": [
       "                    name   mpg  cylinders  horse_power  weight  acceleration  \\\n",
       "239     Ford Thunderbird  16.0          8        149.0    4335          14.5   \n",
       "316            Vw Rabbit  41.5          4         76.0    2144          14.7   \n",
       "29              Bmw 2002  26.0          4        113.0    2234          12.5   \n",
       "167        Buick Century  17.0          6        110.0    3907          21.0   \n",
       "336  Honda Civic 1500 Gl  44.6          4         67.0    1850          13.8   \n",
       "153           Dodge Colt  28.0          4         75.0    2125          14.5   \n",
       "87       Ford Pinto (Sw)  22.0          4         86.0    2395          16.0   \n",
       "205          Honda Civic  33.0          4         53.0    1795          17.4   \n",
       "156          Honda Civic  24.0          4         97.0    2489          15.0   \n",
       "43       Ford Torino 500  19.0          6         88.0    3302          15.5   \n",
       "\n",
       "     year country  displacement  \n",
       "239  1977     USA           1.0  \n",
       "316  1980  Europe           8.0  \n",
       "29   1970  Europe           1.0  \n",
       "167  1975     USA           1.0  \n",
       "336  1980   Japan           1.0  \n",
       "153  1974     USA           0.0  \n",
       "87   1972     USA           2.0  \n",
       "205  1976   Japan           1.0  \n",
       "156  1974   Japan           0.0  \n",
       "43   1971     USA           0.0  "
      ]
     },
     "execution_count": 7,
     "metadata": {},
     "output_type": "execute_result"
    }
   ],
   "source": [
    "df.sample(10)"
   ]
  },
  {
   "cell_type": "code",
   "execution_count": 9,
   "id": "163f5fea",
   "metadata": {},
   "outputs": [
    {
     "data": {
      "text/plain": [
       "name            0\n",
       "mpg             8\n",
       "cylinders       0\n",
       "horse_power     6\n",
       "weight          0\n",
       "acceleration    0\n",
       "year            0\n",
       "country         0\n",
       "displacement    0\n",
       "dtype: int64"
      ]
     },
     "execution_count": 9,
     "metadata": {},
     "output_type": "execute_result"
    }
   ],
   "source": [
    "df.isnull().sum()"
   ]
  },
  {
   "cell_type": "code",
   "execution_count": 10,
   "id": "86dc5ae2",
   "metadata": {},
   "outputs": [
    {
     "data": {
      "text/html": [
       "<div>\n",
       "<style scoped>\n",
       "    .dataframe tbody tr th:only-of-type {\n",
       "        vertical-align: middle;\n",
       "    }\n",
       "\n",
       "    .dataframe tbody tr th {\n",
       "        vertical-align: top;\n",
       "    }\n",
       "\n",
       "    .dataframe thead th {\n",
       "        text-align: right;\n",
       "    }\n",
       "</style>\n",
       "<table border=\"1\" class=\"dataframe\">\n",
       "  <thead>\n",
       "    <tr style=\"text-align: right;\">\n",
       "      <th></th>\n",
       "      <th>mpg</th>\n",
       "      <th>cylinders</th>\n",
       "      <th>horse_power</th>\n",
       "      <th>weight</th>\n",
       "      <th>acceleration</th>\n",
       "      <th>year</th>\n",
       "      <th>displacement</th>\n",
       "    </tr>\n",
       "  </thead>\n",
       "  <tbody>\n",
       "    <tr>\n",
       "      <th>count</th>\n",
       "      <td>398.000000</td>\n",
       "      <td>406.000000</td>\n",
       "      <td>400.000000</td>\n",
       "      <td>406.000000</td>\n",
       "      <td>406.000000</td>\n",
       "      <td>406.000000</td>\n",
       "      <td>406.000000</td>\n",
       "    </tr>\n",
       "    <tr>\n",
       "      <th>mean</th>\n",
       "      <td>23.514573</td>\n",
       "      <td>5.475369</td>\n",
       "      <td>105.082500</td>\n",
       "      <td>2979.413793</td>\n",
       "      <td>15.519704</td>\n",
       "      <td>1975.921182</td>\n",
       "      <td>3.498768</td>\n",
       "    </tr>\n",
       "    <tr>\n",
       "      <th>std</th>\n",
       "      <td>7.815984</td>\n",
       "      <td>1.712160</td>\n",
       "      <td>38.768779</td>\n",
       "      <td>847.004328</td>\n",
       "      <td>2.803359</td>\n",
       "      <td>3.748737</td>\n",
       "      <td>3.211572</td>\n",
       "    </tr>\n",
       "    <tr>\n",
       "      <th>min</th>\n",
       "      <td>9.000000</td>\n",
       "      <td>3.000000</td>\n",
       "      <td>46.000000</td>\n",
       "      <td>1613.000000</td>\n",
       "      <td>8.000000</td>\n",
       "      <td>1970.000000</td>\n",
       "      <td>0.000000</td>\n",
       "    </tr>\n",
       "    <tr>\n",
       "      <th>25%</th>\n",
       "      <td>17.500000</td>\n",
       "      <td>4.000000</td>\n",
       "      <td>75.750000</td>\n",
       "      <td>2226.500000</td>\n",
       "      <td>13.700000</td>\n",
       "      <td>1973.000000</td>\n",
       "      <td>0.000000</td>\n",
       "    </tr>\n",
       "    <tr>\n",
       "      <th>50%</th>\n",
       "      <td>23.000000</td>\n",
       "      <td>4.000000</td>\n",
       "      <td>95.000000</td>\n",
       "      <td>2822.500000</td>\n",
       "      <td>15.500000</td>\n",
       "      <td>1976.000000</td>\n",
       "      <td>2.000000</td>\n",
       "    </tr>\n",
       "    <tr>\n",
       "      <th>75%</th>\n",
       "      <td>29.000000</td>\n",
       "      <td>8.000000</td>\n",
       "      <td>130.000000</td>\n",
       "      <td>3618.250000</td>\n",
       "      <td>17.175000</td>\n",
       "      <td>1979.000000</td>\n",
       "      <td>7.000000</td>\n",
       "    </tr>\n",
       "    <tr>\n",
       "      <th>max</th>\n",
       "      <td>46.600000</td>\n",
       "      <td>8.000000</td>\n",
       "      <td>230.000000</td>\n",
       "      <td>5140.000000</td>\n",
       "      <td>24.800000</td>\n",
       "      <td>1982.000000</td>\n",
       "      <td>9.000000</td>\n",
       "    </tr>\n",
       "  </tbody>\n",
       "</table>\n",
       "</div>"
      ],
      "text/plain": [
       "              mpg   cylinders  horse_power       weight  acceleration  \\\n",
       "count  398.000000  406.000000   400.000000   406.000000    406.000000   \n",
       "mean    23.514573    5.475369   105.082500  2979.413793     15.519704   \n",
       "std      7.815984    1.712160    38.768779   847.004328      2.803359   \n",
       "min      9.000000    3.000000    46.000000  1613.000000      8.000000   \n",
       "25%     17.500000    4.000000    75.750000  2226.500000     13.700000   \n",
       "50%     23.000000    4.000000    95.000000  2822.500000     15.500000   \n",
       "75%     29.000000    8.000000   130.000000  3618.250000     17.175000   \n",
       "max     46.600000    8.000000   230.000000  5140.000000     24.800000   \n",
       "\n",
       "              year  displacement  \n",
       "count   406.000000    406.000000  \n",
       "mean   1975.921182      3.498768  \n",
       "std       3.748737      3.211572  \n",
       "min    1970.000000      0.000000  \n",
       "25%    1973.000000      0.000000  \n",
       "50%    1976.000000      2.000000  \n",
       "75%    1979.000000      7.000000  \n",
       "max    1982.000000      9.000000  "
      ]
     },
     "execution_count": 10,
     "metadata": {},
     "output_type": "execute_result"
    }
   ],
   "source": [
    "df.describe()"
   ]
  },
  {
   "cell_type": "code",
   "execution_count": 17,
   "id": "547bf4ad",
   "metadata": {},
   "outputs": [
    {
     "data": {
      "text/plain": [
       "4    207\n",
       "8    108\n",
       "6     84\n",
       "3      4\n",
       "5      3\n",
       "Name: cylinders, dtype: int64"
      ]
     },
     "execution_count": 17,
     "metadata": {},
     "output_type": "execute_result"
    }
   ],
   "source": [
    "df.cylinders.value_counts()"
   ]
  },
  {
   "cell_type": "code",
   "execution_count": 22,
   "id": "e4be8bd6",
   "metadata": {},
   "outputs": [
    {
     "ename": "TypeError",
     "evalue": "sort_values() got an unexpected keyword argument 'ascendig'",
     "output_type": "error",
     "traceback": [
      "\u001b[0;31m---------------------------------------------------------------------------\u001b[0m",
      "\u001b[0;31mTypeError\u001b[0m                                 Traceback (most recent call last)",
      "\u001b[0;32m/tmp/ipykernel_1229900/29044481.py\u001b[0m in \u001b[0;36m<module>\u001b[0;34m\u001b[0m\n\u001b[0;32m----> 1\u001b[0;31m \u001b[0mdf\u001b[0m\u001b[0;34m.\u001b[0m\u001b[0mcylinders\u001b[0m\u001b[0;34m.\u001b[0m\u001b[0mvalue_counts\u001b[0m\u001b[0;34m(\u001b[0m\u001b[0;34m)\u001b[0m\u001b[0;34m.\u001b[0m\u001b[0msort_values\u001b[0m\u001b[0;34m(\u001b[0m\u001b[0mascendig\u001b[0m\u001b[0;34m=\u001b[0m\u001b[0;32mTrue\u001b[0m\u001b[0;34m)\u001b[0m\u001b[0;34m\u001b[0m\u001b[0;34m\u001b[0m\u001b[0m\n\u001b[0m",
      "\u001b[0;32m~/.local/lib/python3.8/site-packages/pandas/util/_decorators.py\u001b[0m in \u001b[0;36mwrapper\u001b[0;34m(*args, **kwargs)\u001b[0m\n\u001b[1;32m    309\u001b[0m                     \u001b[0mstacklevel\u001b[0m\u001b[0;34m=\u001b[0m\u001b[0mstacklevel\u001b[0m\u001b[0;34m,\u001b[0m\u001b[0;34m\u001b[0m\u001b[0;34m\u001b[0m\u001b[0m\n\u001b[1;32m    310\u001b[0m                 )\n\u001b[0;32m--> 311\u001b[0;31m             \u001b[0;32mreturn\u001b[0m \u001b[0mfunc\u001b[0m\u001b[0;34m(\u001b[0m\u001b[0;34m*\u001b[0m\u001b[0margs\u001b[0m\u001b[0;34m,\u001b[0m \u001b[0;34m**\u001b[0m\u001b[0mkwargs\u001b[0m\u001b[0;34m)\u001b[0m\u001b[0;34m\u001b[0m\u001b[0;34m\u001b[0m\u001b[0m\n\u001b[0m\u001b[1;32m    312\u001b[0m \u001b[0;34m\u001b[0m\u001b[0m\n\u001b[1;32m    313\u001b[0m         \u001b[0;32mreturn\u001b[0m \u001b[0mwrapper\u001b[0m\u001b[0;34m\u001b[0m\u001b[0;34m\u001b[0m\u001b[0m\n",
      "\u001b[0;31mTypeError\u001b[0m: sort_values() got an unexpected keyword argument 'ascendig'"
     ]
    }
   ],
   "source": [
    "df.cylinders.value_counts().sort_values(ascendig=True)"
   ]
  },
  {
   "cell_type": "code",
   "execution_count": 25,
   "id": "7359c634",
   "metadata": {},
   "outputs": [],
   "source": [
    "%matplotlib inline\n",
    "import seaborn as sns\n",
    "import matplotlib.pyplot as plt"
   ]
  },
  {
   "cell_type": "code",
   "execution_count": 27,
   "id": "ea310f58",
   "metadata": {},
   "outputs": [
    {
     "data": {
      "text/plain": [
       "(406, 9)"
      ]
     },
     "execution_count": 27,
     "metadata": {},
     "output_type": "execute_result"
    }
   ],
   "source": [
    "df.shape"
   ]
  },
  {
   "cell_type": "code",
   "execution_count": 31,
   "id": "8b85f703",
   "metadata": {},
   "outputs": [
    {
     "data": {
      "text/plain": [
       "Text(0.5, 1.0, 'count of cylinders')"
      ]
     },
     "execution_count": 31,
     "metadata": {},
     "output_type": "execute_result"
    },
    {
     "data": {
      "image/png": "[encoded data removed]",
      "text/plain": [
       "<Figure size 432x288 with 1 Axes>"
      ]
     },
     "metadata": {
      "needs_background": "light"
     },
     "output_type": "display_data"
    }
   ],
   "source": [
    "ax = sns.countplot(data=df, y='cylinders')\n",
    "ax.set_title('count of cylinders')"
   ]
  },
  {
   "cell_type": "code",
   "execution_count": 33,
   "id": "3c5dc5cb",
   "metadata": {},
   "outputs": [
    {
     "data": {
      "text/plain": [
       "(array([ 0,  1,  2,  3,  4,  5,  6,  7,  8,  9, 10, 11, 12]),\n",
       " [Text(0, 0, '1970'),\n",
       "  Text(1, 0, '1971'),\n",
       "  Text(2, 0, '1972'),\n",
       "  Text(3, 0, '1973'),\n",
       "  Text(4, 0, '1974'),\n",
       "  Text(5, 0, '1975'),\n",
       "  Text(6, 0, '1976'),\n",
       "  Text(7, 0, '1977'),\n",
       "  Text(8, 0, '1978'),\n",
       "  Text(9, 0, '1979'),\n",
       "  Text(10, 0, '1980'),\n",
       "  Text(11, 0, '1981'),\n",
       "  Text(12, 0, '1982')])"
      ]
     },
     "execution_count": 33,
     "metadata": {},
     "output_type": "execute_result"
    },
    {
     "data": {
      "image/png": "[encoded data removed]",
      "text/plain": [
       "<Figure size 432x288 with 1 Axes>"
      ]
     },
     "metadata": {
      "needs_background": "light"
     },
     "output_type": "display_data"
    }
   ],
   "source": [
    "ax = sns.countplot(data=df, x='year')\n",
    "ax.set_title('count of cars')\n",
    "plt.xticks(rotation=45)"
   ]
  },
  {
   "cell_type": "code",
   "execution_count": 35,
   "id": "e959bdfe",
   "metadata": {},
   "outputs": [
    {
     "data": {
      "text/plain": [
       "1     False\n",
       "2     False\n",
       "3     False\n",
       "4     False\n",
       "5     False\n",
       "6     False\n",
       "7     False\n",
       "8     False\n",
       "9     False\n",
       "10     True\n",
       "11     True\n",
       "Name: mpg, dtype: bool"
      ]
     },
     "execution_count": 35,
     "metadata": {},
     "output_type": "execute_result"
    }
   ],
   "source": [
    "df.mpg.isnull()[1:12]"
   ]
  },
  {
   "cell_type": "code",
   "execution_count": 40,
   "id": "2ddad4e7",
   "metadata": {},
   "outputs": [
    {
     "data": {
      "text/html": [
       "<style type=\"text/css\">\n",
       "#T_e24e5_row0_col0, #T_e24e5_row0_col1, #T_e24e5_row0_col2, #T_e24e5_row0_col3, #T_e24e5_row0_col4, #T_e24e5_row0_col6, #T_e24e5_row0_col7, #T_e24e5_row1_col0, #T_e24e5_row1_col1, #T_e24e5_row1_col2, #T_e24e5_row1_col3, #T_e24e5_row1_col6, #T_e24e5_row1_col7, #T_e24e5_row2_col0, #T_e24e5_row2_col1, #T_e24e5_row2_col2, #T_e24e5_row2_col3, #T_e24e5_row2_col4, #T_e24e5_row2_col5, #T_e24e5_row2_col6, #T_e24e5_row2_col7, #T_e24e5_row3_col0, #T_e24e5_row3_col1, #T_e24e5_row3_col2, #T_e24e5_row3_col3, #T_e24e5_row3_col4, #T_e24e5_row3_col5, #T_e24e5_row3_col6, #T_e24e5_row3_col7, #T_e24e5_row4_col0, #T_e24e5_row4_col1, #T_e24e5_row4_col2, #T_e24e5_row4_col3, #T_e24e5_row4_col5, #T_e24e5_row4_col6, #T_e24e5_row4_col7, #T_e24e5_row5_col0, #T_e24e5_row5_col1, #T_e24e5_row5_col2, #T_e24e5_row5_col3, #T_e24e5_row5_col4, #T_e24e5_row5_col5, #T_e24e5_row5_col6, #T_e24e5_row5_col7, #T_e24e5_row6_col0, #T_e24e5_row6_col1, #T_e24e5_row6_col2, #T_e24e5_row6_col3, #T_e24e5_row6_col4, #T_e24e5_row6_col5, #T_e24e5_row6_col6, #T_e24e5_row6_col7, #T_e24e5_row7_col0, #T_e24e5_row7_col1, #T_e24e5_row7_col2, #T_e24e5_row7_col3, #T_e24e5_row7_col4, #T_e24e5_row7_col5, #T_e24e5_row7_col6, #T_e24e5_row7_col7, #T_e24e5_row8_col0, #T_e24e5_row8_col1, #T_e24e5_row8_col2, #T_e24e5_row8_col3, #T_e24e5_row8_col4, #T_e24e5_row8_col5, #T_e24e5_row8_col6, #T_e24e5_row8_col7, #T_e24e5_row9_col0, #T_e24e5_row9_col1, #T_e24e5_row9_col2, #T_e24e5_row9_col3, #T_e24e5_row9_col4, #T_e24e5_row9_col5, #T_e24e5_row9_col6, #T_e24e5_row9_col7, #T_e24e5_row10_col0, #T_e24e5_row10_col1, #T_e24e5_row10_col2, #T_e24e5_row10_col3, #T_e24e5_row10_col5, #T_e24e5_row10_col6, #T_e24e5_row10_col7, #T_e24e5_row11_col0, #T_e24e5_row11_col1, #T_e24e5_row11_col2, #T_e24e5_row11_col3, #T_e24e5_row11_col6, #T_e24e5_row11_col7, #T_e24e5_row12_col0, #T_e24e5_row12_col1, #T_e24e5_row12_col2, #T_e24e5_row12_col3, #T_e24e5_row12_col5, #T_e24e5_row12_col6, #T_e24e5_row12_col7 {\n",
       "  background-color: yellow;\n",
       "}\n",
       "</style>\n",
       "<table id=\"T_e24e5_\">\n",
       "  <thead>\n",
       "    <tr>\n",
       "      <th class=\"blank level0\" >&nbsp;</th>\n",
       "      <th class=\"col_heading level0 col0\" >acceleration</th>\n",
       "      <th class=\"col_heading level0 col1\" >country</th>\n",
       "      <th class=\"col_heading level0 col2\" >cylinders</th>\n",
       "      <th class=\"col_heading level0 col3\" >displacement</th>\n",
       "      <th class=\"col_heading level0 col4\" >horse_power</th>\n",
       "      <th class=\"col_heading level0 col5\" >mpg</th>\n",
       "      <th class=\"col_heading level0 col6\" >name</th>\n",
       "      <th class=\"col_heading level0 col7\" >weight</th>\n",
       "    </tr>\n",
       "    <tr>\n",
       "      <th class=\"index_name level0\" >year</th>\n",
       "      <th class=\"blank col0\" >&nbsp;</th>\n",
       "      <th class=\"blank col1\" >&nbsp;</th>\n",
       "      <th class=\"blank col2\" >&nbsp;</th>\n",
       "      <th class=\"blank col3\" >&nbsp;</th>\n",
       "      <th class=\"blank col4\" >&nbsp;</th>\n",
       "      <th class=\"blank col5\" >&nbsp;</th>\n",
       "      <th class=\"blank col6\" >&nbsp;</th>\n",
       "      <th class=\"blank col7\" >&nbsp;</th>\n",
       "    </tr>\n",
       "  </thead>\n",
       "  <tbody>\n",
       "    <tr>\n",
       "      <th id=\"T_e24e5_level0_row0\" class=\"row_heading level0 row0\" >1970</th>\n",
       "      <td id=\"T_e24e5_row0_col0\" class=\"data row0 col0\" >35</td>\n",
       "      <td id=\"T_e24e5_row0_col1\" class=\"data row0 col1\" >35</td>\n",
       "      <td id=\"T_e24e5_row0_col2\" class=\"data row0 col2\" >35</td>\n",
       "      <td id=\"T_e24e5_row0_col3\" class=\"data row0 col3\" >35</td>\n",
       "      <td id=\"T_e24e5_row0_col4\" class=\"data row0 col4\" >35</td>\n",
       "      <td id=\"T_e24e5_row0_col5\" class=\"data row0 col5\" >29</td>\n",
       "      <td id=\"T_e24e5_row0_col6\" class=\"data row0 col6\" >35</td>\n",
       "      <td id=\"T_e24e5_row0_col7\" class=\"data row0 col7\" >35</td>\n",
       "    </tr>\n",
       "    <tr>\n",
       "      <th id=\"T_e24e5_level0_row1\" class=\"row_heading level0 row1\" >1971</th>\n",
       "      <td id=\"T_e24e5_row1_col0\" class=\"data row1 col0\" >29</td>\n",
       "      <td id=\"T_e24e5_row1_col1\" class=\"data row1 col1\" >29</td>\n",
       "      <td id=\"T_e24e5_row1_col2\" class=\"data row1 col2\" >29</td>\n",
       "      <td id=\"T_e24e5_row1_col3\" class=\"data row1 col3\" >29</td>\n",
       "      <td id=\"T_e24e5_row1_col4\" class=\"data row1 col4\" >28</td>\n",
       "      <td id=\"T_e24e5_row1_col5\" class=\"data row1 col5\" >28</td>\n",
       "      <td id=\"T_e24e5_row1_col6\" class=\"data row1 col6\" >29</td>\n",
       "      <td id=\"T_e24e5_row1_col7\" class=\"data row1 col7\" >29</td>\n",
       "    </tr>\n",
       "    <tr>\n",
       "      <th id=\"T_e24e5_level0_row2\" class=\"row_heading level0 row2\" >1972</th>\n",
       "      <td id=\"T_e24e5_row2_col0\" class=\"data row2 col0\" >28</td>\n",
       "      <td id=\"T_e24e5_row2_col1\" class=\"data row2 col1\" >28</td>\n",
       "      <td id=\"T_e24e5_row2_col2\" class=\"data row2 col2\" >28</td>\n",
       "      <td id=\"T_e24e5_row2_col3\" class=\"data row2 col3\" >28</td>\n",
       "      <td id=\"T_e24e5_row2_col4\" class=\"data row2 col4\" >28</td>\n",
       "      <td id=\"T_e24e5_row2_col5\" class=\"data row2 col5\" >28</td>\n",
       "      <td id=\"T_e24e5_row2_col6\" class=\"data row2 col6\" >28</td>\n",
       "      <td id=\"T_e24e5_row2_col7\" class=\"data row2 col7\" >28</td>\n",
       "    </tr>\n",
       "    <tr>\n",
       "      <th id=\"T_e24e5_level0_row3\" class=\"row_heading level0 row3\" >1973</th>\n",
       "      <td id=\"T_e24e5_row3_col0\" class=\"data row3 col0\" >40</td>\n",
       "      <td id=\"T_e24e5_row3_col1\" class=\"data row3 col1\" >40</td>\n",
       "      <td id=\"T_e24e5_row3_col2\" class=\"data row3 col2\" >40</td>\n",
       "      <td id=\"T_e24e5_row3_col3\" class=\"data row3 col3\" >40</td>\n",
       "      <td id=\"T_e24e5_row3_col4\" class=\"data row3 col4\" >40</td>\n",
       "      <td id=\"T_e24e5_row3_col5\" class=\"data row3 col5\" >40</td>\n",
       "      <td id=\"T_e24e5_row3_col6\" class=\"data row3 col6\" >40</td>\n",
       "      <td id=\"T_e24e5_row3_col7\" class=\"data row3 col7\" >40</td>\n",
       "    </tr>\n",
       "    <tr>\n",
       "      <th id=\"T_e24e5_level0_row4\" class=\"row_heading level0 row4\" >1974</th>\n",
       "      <td id=\"T_e24e5_row4_col0\" class=\"data row4 col0\" >27</td>\n",
       "      <td id=\"T_e24e5_row4_col1\" class=\"data row4 col1\" >27</td>\n",
       "      <td id=\"T_e24e5_row4_col2\" class=\"data row4 col2\" >27</td>\n",
       "      <td id=\"T_e24e5_row4_col3\" class=\"data row4 col3\" >27</td>\n",
       "      <td id=\"T_e24e5_row4_col4\" class=\"data row4 col4\" >26</td>\n",
       "      <td id=\"T_e24e5_row4_col5\" class=\"data row4 col5\" >27</td>\n",
       "      <td id=\"T_e24e5_row4_col6\" class=\"data row4 col6\" >27</td>\n",
       "      <td id=\"T_e24e5_row4_col7\" class=\"data row4 col7\" >27</td>\n",
       "    </tr>\n",
       "    <tr>\n",
       "      <th id=\"T_e24e5_level0_row5\" class=\"row_heading level0 row5\" >1975</th>\n",
       "      <td id=\"T_e24e5_row5_col0\" class=\"data row5 col0\" >30</td>\n",
       "      <td id=\"T_e24e5_row5_col1\" class=\"data row5 col1\" >30</td>\n",
       "      <td id=\"T_e24e5_row5_col2\" class=\"data row5 col2\" >30</td>\n",
       "      <td id=\"T_e24e5_row5_col3\" class=\"data row5 col3\" >30</td>\n",
       "      <td id=\"T_e24e5_row5_col4\" class=\"data row5 col4\" >30</td>\n",
       "      <td id=\"T_e24e5_row5_col5\" class=\"data row5 col5\" >30</td>\n",
       "      <td id=\"T_e24e5_row5_col6\" class=\"data row5 col6\" >30</td>\n",
       "      <td id=\"T_e24e5_row5_col7\" class=\"data row5 col7\" >30</td>\n",
       "    </tr>\n",
       "    <tr>\n",
       "      <th id=\"T_e24e5_level0_row6\" class=\"row_heading level0 row6\" >1976</th>\n",
       "      <td id=\"T_e24e5_row6_col0\" class=\"data row6 col0\" >34</td>\n",
       "      <td id=\"T_e24e5_row6_col1\" class=\"data row6 col1\" >34</td>\n",
       "      <td id=\"T_e24e5_row6_col2\" class=\"data row6 col2\" >34</td>\n",
       "      <td id=\"T_e24e5_row6_col3\" class=\"data row6 col3\" >34</td>\n",
       "      <td id=\"T_e24e5_row6_col4\" class=\"data row6 col4\" >34</td>\n",
       "      <td id=\"T_e24e5_row6_col5\" class=\"data row6 col5\" >34</td>\n",
       "      <td id=\"T_e24e5_row6_col6\" class=\"data row6 col6\" >34</td>\n",
       "      <td id=\"T_e24e5_row6_col7\" class=\"data row6 col7\" >34</td>\n",
       "    </tr>\n",
       "    <tr>\n",
       "      <th id=\"T_e24e5_level0_row7\" class=\"row_heading level0 row7\" >1977</th>\n",
       "      <td id=\"T_e24e5_row7_col0\" class=\"data row7 col0\" >28</td>\n",
       "      <td id=\"T_e24e5_row7_col1\" class=\"data row7 col1\" >28</td>\n",
       "      <td id=\"T_e24e5_row7_col2\" class=\"data row7 col2\" >28</td>\n",
       "      <td id=\"T_e24e5_row7_col3\" class=\"data row7 col3\" >28</td>\n",
       "      <td id=\"T_e24e5_row7_col4\" class=\"data row7 col4\" >28</td>\n",
       "      <td id=\"T_e24e5_row7_col5\" class=\"data row7 col5\" >28</td>\n",
       "      <td id=\"T_e24e5_row7_col6\" class=\"data row7 col6\" >28</td>\n",
       "      <td id=\"T_e24e5_row7_col7\" class=\"data row7 col7\" >28</td>\n",
       "    </tr>\n",
       "    <tr>\n",
       "      <th id=\"T_e24e5_level0_row8\" class=\"row_heading level0 row8\" >1978</th>\n",
       "      <td id=\"T_e24e5_row8_col0\" class=\"data row8 col0\" >36</td>\n",
       "      <td id=\"T_e24e5_row8_col1\" class=\"data row8 col1\" >36</td>\n",
       "      <td id=\"T_e24e5_row8_col2\" class=\"data row8 col2\" >36</td>\n",
       "      <td id=\"T_e24e5_row8_col3\" class=\"data row8 col3\" >36</td>\n",
       "      <td id=\"T_e24e5_row8_col4\" class=\"data row8 col4\" >36</td>\n",
       "      <td id=\"T_e24e5_row8_col5\" class=\"data row8 col5\" >36</td>\n",
       "      <td id=\"T_e24e5_row8_col6\" class=\"data row8 col6\" >36</td>\n",
       "      <td id=\"T_e24e5_row8_col7\" class=\"data row8 col7\" >36</td>\n",
       "    </tr>\n",
       "    <tr>\n",
       "      <th id=\"T_e24e5_level0_row9\" class=\"row_heading level0 row9\" >1979</th>\n",
       "      <td id=\"T_e24e5_row9_col0\" class=\"data row9 col0\" >29</td>\n",
       "      <td id=\"T_e24e5_row9_col1\" class=\"data row9 col1\" >29</td>\n",
       "      <td id=\"T_e24e5_row9_col2\" class=\"data row9 col2\" >29</td>\n",
       "      <td id=\"T_e24e5_row9_col3\" class=\"data row9 col3\" >29</td>\n",
       "      <td id=\"T_e24e5_row9_col4\" class=\"data row9 col4\" >29</td>\n",
       "      <td id=\"T_e24e5_row9_col5\" class=\"data row9 col5\" >29</td>\n",
       "      <td id=\"T_e24e5_row9_col6\" class=\"data row9 col6\" >29</td>\n",
       "      <td id=\"T_e24e5_row9_col7\" class=\"data row9 col7\" >29</td>\n",
       "    </tr>\n",
       "    <tr>\n",
       "      <th id=\"T_e24e5_level0_row10\" class=\"row_heading level0 row10\" >1980</th>\n",
       "      <td id=\"T_e24e5_row10_col0\" class=\"data row10 col0\" >29</td>\n",
       "      <td id=\"T_e24e5_row10_col1\" class=\"data row10 col1\" >29</td>\n",
       "      <td id=\"T_e24e5_row10_col2\" class=\"data row10 col2\" >29</td>\n",
       "      <td id=\"T_e24e5_row10_col3\" class=\"data row10 col3\" >29</td>\n",
       "      <td id=\"T_e24e5_row10_col4\" class=\"data row10 col4\" >27</td>\n",
       "      <td id=\"T_e24e5_row10_col5\" class=\"data row10 col5\" >29</td>\n",
       "      <td id=\"T_e24e5_row10_col6\" class=\"data row10 col6\" >29</td>\n",
       "      <td id=\"T_e24e5_row10_col7\" class=\"data row10 col7\" >29</td>\n",
       "    </tr>\n",
       "    <tr>\n",
       "      <th id=\"T_e24e5_level0_row11\" class=\"row_heading level0 row11\" >1981</th>\n",
       "      <td id=\"T_e24e5_row11_col0\" class=\"data row11 col0\" >30</td>\n",
       "      <td id=\"T_e24e5_row11_col1\" class=\"data row11 col1\" >30</td>\n",
       "      <td id=\"T_e24e5_row11_col2\" class=\"data row11 col2\" >30</td>\n",
       "      <td id=\"T_e24e5_row11_col3\" class=\"data row11 col3\" >30</td>\n",
       "      <td id=\"T_e24e5_row11_col4\" class=\"data row11 col4\" >29</td>\n",
       "      <td id=\"T_e24e5_row11_col5\" class=\"data row11 col5\" >29</td>\n",
       "      <td id=\"T_e24e5_row11_col6\" class=\"data row11 col6\" >30</td>\n",
       "      <td id=\"T_e24e5_row11_col7\" class=\"data row11 col7\" >30</td>\n",
       "    </tr>\n",
       "    <tr>\n",
       "      <th id=\"T_e24e5_level0_row12\" class=\"row_heading level0 row12\" >1982</th>\n",
       "      <td id=\"T_e24e5_row12_col0\" class=\"data row12 col0\" >31</td>\n",
       "      <td id=\"T_e24e5_row12_col1\" class=\"data row12 col1\" >31</td>\n",
       "      <td id=\"T_e24e5_row12_col2\" class=\"data row12 col2\" >31</td>\n",
       "      <td id=\"T_e24e5_row12_col3\" class=\"data row12 col3\" >31</td>\n",
       "      <td id=\"T_e24e5_row12_col4\" class=\"data row12 col4\" >30</td>\n",
       "      <td id=\"T_e24e5_row12_col5\" class=\"data row12 col5\" >31</td>\n",
       "      <td id=\"T_e24e5_row12_col6\" class=\"data row12 col6\" >31</td>\n",
       "      <td id=\"T_e24e5_row12_col7\" class=\"data row12 col7\" >31</td>\n",
       "    </tr>\n",
       "  </tbody>\n",
       "</table>\n"
      ],
      "text/plain": [
       "<pandas.io.formats.style.Styler at 0x7f2b1718baf0>"
      ]
     },
     "execution_count": 40,
     "metadata": {},
     "output_type": "execute_result"
    }
   ],
   "source": [
    "def highlight_max(s):\n",
    "    \"\"\"Highlight the max in a series by yellow\"\"\"\n",
    "    ismax = s == s.max()\n",
    "    return ['background-color: yellow' if x else '' for x in ismax]\n",
    "df.pivot_table(index=['year'], aggfunc='count').style.apply(highlight_max, axis=1)"
   ]
  },
  {
   "cell_type": "code",
   "execution_count": 41,
   "id": "004217d3",
   "metadata": {},
   "outputs": [],
   "source": [
    "df = df.query('cylinders != 3 and cylinders != 5').copy()"
   ]
  },
  {
   "cell_type": "code",
   "execution_count": 42,
   "id": "aae0c311",
   "metadata": {},
   "outputs": [
    {
     "data": {
      "text/plain": [
       "(399, 9)"
      ]
     },
     "execution_count": 42,
     "metadata": {},
     "output_type": "execute_result"
    }
   ],
   "source": [
    "df.shape"
   ]
  },
  {
   "cell_type": "code",
   "execution_count": 44,
   "id": "62446751",
   "metadata": {},
   "outputs": [
    {
     "data": {
      "text/plain": [
       "4    207\n",
       "6     84\n",
       "8    108\n",
       "Name: cylinders, dtype: int64"
      ]
     },
     "execution_count": 44,
     "metadata": {},
     "output_type": "execute_result"
    }
   ],
   "source": [
    "df.cylinders.value_counts().sort_index()"
   ]
  },
  {
   "cell_type": "code",
   "execution_count": 46,
   "id": "ffccfca6",
   "metadata": {},
   "outputs": [],
   "source": [
    "df['cylinders_label'] = df.cylinders.apply(lambda x: f'{x} cylinders' )"
   ]
  },
  {
   "cell_type": "code",
   "execution_count": 47,
   "id": "55db3bbf",
   "metadata": {},
   "outputs": [
    {
     "data": {
      "text/html": [
       "<div>\n",
       "<style scoped>\n",
       "    .dataframe tbody tr th:only-of-type {\n",
       "        vertical-align: middle;\n",
       "    }\n",
       "\n",
       "    .dataframe tbody tr th {\n",
       "        vertical-align: top;\n",
       "    }\n",
       "\n",
       "    .dataframe thead th {\n",
       "        text-align: right;\n",
       "    }\n",
       "</style>\n",
       "<table border=\"1\" class=\"dataframe\">\n",
       "  <thead>\n",
       "    <tr style=\"text-align: right;\">\n",
       "      <th></th>\n",
       "      <th>name</th>\n",
       "      <th>mpg</th>\n",
       "      <th>cylinders</th>\n",
       "      <th>horse_power</th>\n",
       "      <th>weight</th>\n",
       "      <th>acceleration</th>\n",
       "      <th>year</th>\n",
       "      <th>country</th>\n",
       "      <th>displacement</th>\n",
       "      <th>cylinders_label</th>\n",
       "    </tr>\n",
       "  </thead>\n",
       "  <tbody>\n",
       "    <tr>\n",
       "      <th>0</th>\n",
       "      <td>Chevrolet Chevelle Malibu</td>\n",
       "      <td>18.0</td>\n",
       "      <td>8</td>\n",
       "      <td>130.0</td>\n",
       "      <td>3504</td>\n",
       "      <td>12.0</td>\n",
       "      <td>1970</td>\n",
       "      <td>USA</td>\n",
       "      <td>7.0</td>\n",
       "      <td>8 cylinders</td>\n",
       "    </tr>\n",
       "    <tr>\n",
       "      <th>1</th>\n",
       "      <td>Buick Skylark 320</td>\n",
       "      <td>15.0</td>\n",
       "      <td>8</td>\n",
       "      <td>165.0</td>\n",
       "      <td>3693</td>\n",
       "      <td>11.5</td>\n",
       "      <td>1970</td>\n",
       "      <td>USA</td>\n",
       "      <td>0.0</td>\n",
       "      <td>8 cylinders</td>\n",
       "    </tr>\n",
       "    <tr>\n",
       "      <th>2</th>\n",
       "      <td>Plymouth Satellite</td>\n",
       "      <td>18.0</td>\n",
       "      <td>8</td>\n",
       "      <td>150.0</td>\n",
       "      <td>3436</td>\n",
       "      <td>11.0</td>\n",
       "      <td>1970</td>\n",
       "      <td>USA</td>\n",
       "      <td>8.0</td>\n",
       "      <td>8 cylinders</td>\n",
       "    </tr>\n",
       "    <tr>\n",
       "      <th>3</th>\n",
       "      <td>Amc Rebel Sst</td>\n",
       "      <td>16.0</td>\n",
       "      <td>8</td>\n",
       "      <td>150.0</td>\n",
       "      <td>3433</td>\n",
       "      <td>12.0</td>\n",
       "      <td>1970</td>\n",
       "      <td>USA</td>\n",
       "      <td>4.0</td>\n",
       "      <td>8 cylinders</td>\n",
       "    </tr>\n",
       "    <tr>\n",
       "      <th>4</th>\n",
       "      <td>Ford Torino</td>\n",
       "      <td>17.0</td>\n",
       "      <td>8</td>\n",
       "      <td>140.0</td>\n",
       "      <td>3449</td>\n",
       "      <td>10.5</td>\n",
       "      <td>1970</td>\n",
       "      <td>USA</td>\n",
       "      <td>2.0</td>\n",
       "      <td>8 cylinders</td>\n",
       "    </tr>\n",
       "  </tbody>\n",
       "</table>\n",
       "</div>"
      ],
      "text/plain": [
       "                        name   mpg  cylinders  horse_power  weight  \\\n",
       "0  Chevrolet Chevelle Malibu  18.0          8        130.0    3504   \n",
       "1          Buick Skylark 320  15.0          8        165.0    3693   \n",
       "2         Plymouth Satellite  18.0          8        150.0    3436   \n",
       "3              Amc Rebel Sst  16.0          8        150.0    3433   \n",
       "4                Ford Torino  17.0          8        140.0    3449   \n",
       "\n",
       "   acceleration  year country  displacement cylinders_label  \n",
       "0          12.0  1970     USA           7.0     8 cylinders  \n",
       "1          11.5  1970     USA           0.0     8 cylinders  \n",
       "2          11.0  1970     USA           8.0     8 cylinders  \n",
       "3          12.0  1970     USA           4.0     8 cylinders  \n",
       "4          10.5  1970     USA           2.0     8 cylinders  "
      ]
     },
     "execution_count": 47,
     "metadata": {},
     "output_type": "execute_result"
    }
   ],
   "source": [
    "df.head(\n",
    ")"
   ]
  },
  {
   "cell_type": "code",
   "execution_count": 49,
   "id": "628207bb",
   "metadata": {},
   "outputs": [
    {
     "data": {
      "text/plain": [
       "Text(0.5, 1.0, 'mpg hist')"
      ]
     },
     "execution_count": 49,
     "metadata": {},
     "output_type": "execute_result"
    },
    {
     "data": {
      "image/png": "[encoded data removed]",
      "text/plain": [
       "<Figure size 432x288 with 1 Axes>"
      ]
     },
     "metadata": {
      "needs_background": "light"
     },
     "output_type": "display_data"
    }
   ],
   "source": [
    "ax = df.mpg.hist()\n",
    "ax.set_ylabel('frequency')\n",
    "ax.set_xlabel('mpg')\n",
    "ax.set_title('mpg hist')"
   ]
  },
  {
   "cell_type": "code",
   "execution_count": 50,
   "id": "c19d01fc",
   "metadata": {},
   "outputs": [
    {
     "data": {
      "text/html": [
       "<div>\n",
       "<style scoped>\n",
       "    .dataframe tbody tr th:only-of-type {\n",
       "        vertical-align: middle;\n",
       "    }\n",
       "\n",
       "    .dataframe tbody tr th {\n",
       "        vertical-align: top;\n",
       "    }\n",
       "\n",
       "    .dataframe thead th {\n",
       "        text-align: right;\n",
       "    }\n",
       "</style>\n",
       "<table border=\"1\" class=\"dataframe\">\n",
       "  <thead>\n",
       "    <tr style=\"text-align: right;\">\n",
       "      <th></th>\n",
       "      <th>acceleration</th>\n",
       "      <th>cylinders</th>\n",
       "      <th>displacement</th>\n",
       "      <th>horse_power</th>\n",
       "      <th>mpg</th>\n",
       "      <th>weight</th>\n",
       "    </tr>\n",
       "    <tr>\n",
       "      <th>year</th>\n",
       "      <th></th>\n",
       "      <th></th>\n",
       "      <th></th>\n",
       "      <th></th>\n",
       "      <th></th>\n",
       "      <th></th>\n",
       "    </tr>\n",
       "  </thead>\n",
       "  <tbody>\n",
       "    <tr>\n",
       "      <th>1970</th>\n",
       "      <td>12.714286</td>\n",
       "      <td>6.857143</td>\n",
       "      <td>3.714286</td>\n",
       "      <td>148.857143</td>\n",
       "      <td>17.689655</td>\n",
       "      <td>3441.314286</td>\n",
       "    </tr>\n",
       "    <tr>\n",
       "      <th>1971</th>\n",
       "      <td>15.310345</td>\n",
       "      <td>5.517241</td>\n",
       "      <td>3.103448</td>\n",
       "      <td>104.928571</td>\n",
       "      <td>21.250000</td>\n",
       "      <td>2960.344828</td>\n",
       "    </tr>\n",
       "    <tr>\n",
       "      <th>1972</th>\n",
       "      <td>15.185185</td>\n",
       "      <td>5.925926</td>\n",
       "      <td>3.500000</td>\n",
       "      <td>121.037037</td>\n",
       "      <td>18.703704</td>\n",
       "      <td>3271.333333</td>\n",
       "    </tr>\n",
       "    <tr>\n",
       "      <th>1973</th>\n",
       "      <td>14.333333</td>\n",
       "      <td>6.461538</td>\n",
       "      <td>3.205128</td>\n",
       "      <td>131.512821</td>\n",
       "      <td>17.076923</td>\n",
       "      <td>3452.230769</td>\n",
       "    </tr>\n",
       "    <tr>\n",
       "      <th>1974</th>\n",
       "      <td>16.203704</td>\n",
       "      <td>5.259259</td>\n",
       "      <td>3.962963</td>\n",
       "      <td>94.230769</td>\n",
       "      <td>22.703704</td>\n",
       "      <td>2877.925926</td>\n",
       "    </tr>\n",
       "    <tr>\n",
       "      <th>1975</th>\n",
       "      <td>16.050000</td>\n",
       "      <td>5.600000</td>\n",
       "      <td>2.200000</td>\n",
       "      <td>101.066667</td>\n",
       "      <td>20.266667</td>\n",
       "      <td>3176.800000</td>\n",
       "    </tr>\n",
       "    <tr>\n",
       "      <th>1976</th>\n",
       "      <td>15.941176</td>\n",
       "      <td>5.647059</td>\n",
       "      <td>3.676471</td>\n",
       "      <td>101.117647</td>\n",
       "      <td>21.573529</td>\n",
       "      <td>3078.735294</td>\n",
       "    </tr>\n",
       "    <tr>\n",
       "      <th>1977</th>\n",
       "      <td>15.507407</td>\n",
       "      <td>5.555556</td>\n",
       "      <td>3.666667</td>\n",
       "      <td>104.888889</td>\n",
       "      <td>23.444444</td>\n",
       "      <td>3007.629630</td>\n",
       "    </tr>\n",
       "    <tr>\n",
       "      <th>1978</th>\n",
       "      <td>15.802857</td>\n",
       "      <td>5.371429</td>\n",
       "      <td>4.000000</td>\n",
       "      <td>99.600000</td>\n",
       "      <td>24.168571</td>\n",
       "      <td>2862.714286</td>\n",
       "    </tr>\n",
       "    <tr>\n",
       "      <th>1979</th>\n",
       "      <td>15.660714</td>\n",
       "      <td>5.857143</td>\n",
       "      <td>2.892857</td>\n",
       "      <td>102.071429</td>\n",
       "      <td>25.082143</td>\n",
       "      <td>3038.392857</td>\n",
       "    </tr>\n",
       "    <tr>\n",
       "      <th>1980</th>\n",
       "      <td>16.988889</td>\n",
       "      <td>4.148148</td>\n",
       "      <td>4.740741</td>\n",
       "      <td>77.000000</td>\n",
       "      <td>33.966667</td>\n",
       "      <td>2418.259259</td>\n",
       "    </tr>\n",
       "    <tr>\n",
       "      <th>1981</th>\n",
       "      <td>16.276667</td>\n",
       "      <td>4.600000</td>\n",
       "      <td>4.500000</td>\n",
       "      <td>82.034483</td>\n",
       "      <td>30.334483</td>\n",
       "      <td>2532.166667</td>\n",
       "    </tr>\n",
       "    <tr>\n",
       "      <th>1982</th>\n",
       "      <td>16.638710</td>\n",
       "      <td>4.193548</td>\n",
       "      <td>3.064516</td>\n",
       "      <td>81.466667</td>\n",
       "      <td>31.709677</td>\n",
       "      <td>2453.548387</td>\n",
       "    </tr>\n",
       "  </tbody>\n",
       "</table>\n",
       "</div>"
      ],
      "text/plain": [
       "      acceleration  cylinders  displacement  horse_power        mpg  \\\n",
       "year                                                                  \n",
       "1970     12.714286   6.857143      3.714286   148.857143  17.689655   \n",
       "1971     15.310345   5.517241      3.103448   104.928571  21.250000   \n",
       "1972     15.185185   5.925926      3.500000   121.037037  18.703704   \n",
       "1973     14.333333   6.461538      3.205128   131.512821  17.076923   \n",
       "1974     16.203704   5.259259      3.962963    94.230769  22.703704   \n",
       "1975     16.050000   5.600000      2.200000   101.066667  20.266667   \n",
       "1976     15.941176   5.647059      3.676471   101.117647  21.573529   \n",
       "1977     15.507407   5.555556      3.666667   104.888889  23.444444   \n",
       "1978     15.802857   5.371429      4.000000    99.600000  24.168571   \n",
       "1979     15.660714   5.857143      2.892857   102.071429  25.082143   \n",
       "1980     16.988889   4.148148      4.740741    77.000000  33.966667   \n",
       "1981     16.276667   4.600000      4.500000    82.034483  30.334483   \n",
       "1982     16.638710   4.193548      3.064516    81.466667  31.709677   \n",
       "\n",
       "           weight  \n",
       "year               \n",
       "1970  3441.314286  \n",
       "1971  2960.344828  \n",
       "1972  3271.333333  \n",
       "1973  3452.230769  \n",
       "1974  2877.925926  \n",
       "1975  3176.800000  \n",
       "1976  3078.735294  \n",
       "1977  3007.629630  \n",
       "1978  2862.714286  \n",
       "1979  3038.392857  \n",
       "1980  2418.259259  \n",
       "1981  2532.166667  \n",
       "1982  2453.548387  "
      ]
     },
     "execution_count": 50,
     "metadata": {},
     "output_type": "execute_result"
    }
   ],
   "source": [
    "df.pivot_table(index=['year'], aggfunc='mean')"
   ]
  },
  {
   "cell_type": "code",
   "execution_count": 53,
   "id": "9612f42c",
   "metadata": {},
   "outputs": [
    {
     "data": {
      "text/plain": [
       "weight         -0.842035\n",
       "cylinders      -0.792406\n",
       "horse_power    -0.780259\n",
       "displacement    0.249921\n",
       "acceleration    0.416320\n",
       "year            0.578522\n",
       "mpg             1.000000\n",
       "Name: mpg, dtype: float64"
      ]
     },
     "execution_count": 53,
     "metadata": {},
     "output_type": "execute_result"
    }
   ],
   "source": [
    "df.corr()['mpg'].sort_values()"
   ]
  },
  {
   "cell_type": "code",
   "execution_count": 54,
   "id": "c77f4452",
   "metadata": {},
   "outputs": [
    {
     "data": {
      "image/png": "[encoded data removed]",
      "text/plain": [
       "<Figure size 432x288 with 1 Axes>"
      ]
     },
     "metadata": {
      "needs_background": "light"
     },
     "output_type": "display_data"
    }
   ],
   "source": [
    "ax = df.plot(kind='scatter', x='mpg', y='weight')"
   ]
  },
  {
   "cell_type": "code",
   "execution_count": 57,
   "id": "72d40cec",
   "metadata": {},
   "outputs": [
    {
     "data": {
      "image/png": "[encoded data removed]",
      "text/plain": [
       "<Figure size 432x288 with 1 Axes>"
      ]
     },
     "metadata": {
      "needs_background": "light"
     },
     "output_type": "display_data"
    }
   ],
   "source": [
    "ax = df.plot(kind='scatter', x='mpg', y='weight', alpha=0.3)"
   ]
  },
  {
   "cell_type": "code",
   "execution_count": 59,
   "id": "925a11a2",
   "metadata": {},
   "outputs": [
    {
     "data": {
      "image/png": "[encoded data removed]",
      "text/plain": [
       "<Figure size 432x432 with 3 Axes>"
      ]
     },
     "metadata": {
      "needs_background": "light"
     },
     "output_type": "display_data"
    }
   ],
   "source": [
    "jp = sns.jointplot(data=df, y='mpg', x='weight')"
   ]
  },
  {
   "cell_type": "code",
   "execution_count": 61,
   "id": "12736ec0",
   "metadata": {},
   "outputs": [
    {
     "data": {
      "image/png": "[encoded data removed]",
      "text/plain": [
       "<Figure size 432x432 with 3 Axes>"
      ]
     },
     "metadata": {
      "needs_background": "light"
     },
     "output_type": "display_data"
    }
   ],
   "source": [
    "jp = sns.jointplot(data=df, y='mpg', x='weight', kind='hex')"
   ]
  },
  {
   "cell_type": "code",
   "execution_count": 63,
   "id": "7b36a970",
   "metadata": {},
   "outputs": [
    {
     "data": {
      "text/plain": [
       "4    207\n",
       "6     84\n",
       "8    108\n",
       "Name: cylinders, dtype: int64"
      ]
     },
     "execution_count": 63,
     "metadata": {},
     "output_type": "execute_result"
    }
   ],
   "source": [
    "df.cylinders.value_counts().sort_index()"
   ]
  },
  {
   "cell_type": "code",
   "execution_count": 75,
   "id": "15d56109",
   "metadata": {},
   "outputs": [
    {
     "data": {
      "text/plain": [
       "Text(0.5, 0, 'cyl')"
      ]
     },
     "execution_count": 75,
     "metadata": {},
     "output_type": "execute_result"
    },
    {
     "data": {
      "image/png": "[encoded data removed]",
      "text/plain": [
       "<Figure size 432x288 with 1 Axes>"
      ]
     },
     "metadata": {
      "needs_background": "light"
     },
     "output_type": "display_data"
    }
   ],
   "source": [
    "ax = sns.boxplot(data=df, x='cylinders_label', y='weight')\n",
    "ax.set_xlabel('cyl')\n",
    "# dir(ax)"
   ]
  },
  {
   "cell_type": "code",
   "execution_count": 76,
   "id": "ba8fccdc",
   "metadata": {},
   "outputs": [
    {
     "data": {
      "text/plain": [
       "['__class__',\n",
       " '__delattr__',\n",
       " '__dict__',\n",
       " '__dir__',\n",
       " '__doc__',\n",
       " '__eq__',\n",
       " '__format__',\n",
       " '__ge__',\n",
       " '__getattribute__',\n",
       " '__getstate__',\n",
       " '__gt__',\n",
       " '__hash__',\n",
       " '__init__',\n",
       " '__init_subclass__',\n",
       " '__le__',\n",
       " '__lt__',\n",
       " '__module__',\n",
       " '__ne__',\n",
       " '__new__',\n",
       " '__reduce__',\n",
       " '__reduce_ex__',\n",
       " '__repr__',\n",
       " '__setattr__',\n",
       " '__setstate__',\n",
       " '__sizeof__',\n",
       " '__str__',\n",
       " '__subclasshook__',\n",
       " '__weakref__',\n",
       " '_add_axes_internal',\n",
       " '_agg_filter',\n",
       " '_align_label_groups',\n",
       " '_alpha',\n",
       " '_animated',\n",
       " '_axobservers',\n",
       " '_axstack',\n",
       " '_button_pick_id',\n",
       " '_cachedRenderer',\n",
       " '_callbacks',\n",
       " '_canvas_callbacks',\n",
       " '_clipon',\n",
       " '_clippath',\n",
       " '_constrained',\n",
       " '_constrained_layout_pads',\n",
       " '_contains',\n",
       " '_default_contains',\n",
       " '_dpi',\n",
       " '_gci',\n",
       " '_get_clipping_extent_bbox',\n",
       " '_get_dpi',\n",
       " '_get_draw_artists',\n",
       " '_gid',\n",
       " '_gridspecs',\n",
       " '_in_layout',\n",
       " '_label',\n",
       " '_layoutgrid',\n",
       " '_localaxes',\n",
       " '_mouseover',\n",
       " '_normalize_grid_string',\n",
       " '_path_effects',\n",
       " '_picker',\n",
       " '_process_projection_requirements',\n",
       " '_rasterized',\n",
       " '_remove_method',\n",
       " '_repr_html_',\n",
       " '_scroll_pick_id',\n",
       " '_set_alpha_for_array',\n",
       " '_set_artist_props',\n",
       " '_set_dpi',\n",
       " '_set_gc_clip',\n",
       " '_sketch',\n",
       " '_snap',\n",
       " '_stale',\n",
       " '_sticky_edges',\n",
       " '_suplabels',\n",
       " '_suptitle',\n",
       " '_supxlabel',\n",
       " '_supylabel',\n",
       " '_tight',\n",
       " '_tight_parameters',\n",
       " '_transform',\n",
       " '_transformSet',\n",
       " '_url',\n",
       " '_visible',\n",
       " 'add_artist',\n",
       " 'add_axes',\n",
       " 'add_axobserver',\n",
       " 'add_callback',\n",
       " 'add_gridspec',\n",
       " 'add_subfigure',\n",
       " 'add_subplot',\n",
       " 'align_labels',\n",
       " 'align_xlabels',\n",
       " 'align_ylabels',\n",
       " 'artists',\n",
       " 'autofmt_xdate',\n",
       " 'axes',\n",
       " 'bbox',\n",
       " 'bbox_inches',\n",
       " 'callbacks',\n",
       " 'canvas',\n",
       " 'clear',\n",
       " 'clf',\n",
       " 'clipbox',\n",
       " 'colorbar',\n",
       " 'contains',\n",
       " 'convert_xunits',\n",
       " 'convert_yunits',\n",
       " 'delaxes',\n",
       " 'dpi',\n",
       " 'dpi_scale_trans',\n",
       " 'draw',\n",
       " 'draw_artist',\n",
       " 'execute_constrained_layout',\n",
       " 'figbbox',\n",
       " 'figimage',\n",
       " 'figure',\n",
       " 'findobj',\n",
       " 'format_cursor_data',\n",
       " 'frameon',\n",
       " 'gca',\n",
       " 'get_agg_filter',\n",
       " 'get_alpha',\n",
       " 'get_animated',\n",
       " 'get_axes',\n",
       " 'get_children',\n",
       " 'get_clip_box',\n",
       " 'get_clip_on',\n",
       " 'get_clip_path',\n",
       " 'get_constrained_layout',\n",
       " 'get_constrained_layout_pads',\n",
       " 'get_contains',\n",
       " 'get_cursor_data',\n",
       " 'get_default_bbox_extra_artists',\n",
       " 'get_dpi',\n",
       " 'get_edgecolor',\n",
       " 'get_facecolor',\n",
       " 'get_figheight',\n",
       " 'get_figure',\n",
       " 'get_figwidth',\n",
       " 'get_frameon',\n",
       " 'get_gid',\n",
       " 'get_in_layout',\n",
       " 'get_label',\n",
       " 'get_linewidth',\n",
       " 'get_path_effects',\n",
       " 'get_picker',\n",
       " 'get_rasterized',\n",
       " 'get_size_inches',\n",
       " 'get_sketch_params',\n",
       " 'get_snap',\n",
       " 'get_tight_layout',\n",
       " 'get_tightbbox',\n",
       " 'get_transform',\n",
       " 'get_transformed_clip_path_and_affine',\n",
       " 'get_url',\n",
       " 'get_visible',\n",
       " 'get_window_extent',\n",
       " 'get_zorder',\n",
       " 'ginput',\n",
       " 'have_units',\n",
       " 'images',\n",
       " 'init_layoutgrid',\n",
       " 'is_transform_set',\n",
       " 'legend',\n",
       " 'legends',\n",
       " 'lines',\n",
       " 'mouseover',\n",
       " 'number',\n",
       " 'patch',\n",
       " 'patches',\n",
       " 'pchanged',\n",
       " 'pick',\n",
       " 'pickable',\n",
       " 'properties',\n",
       " 'remove',\n",
       " 'remove_callback',\n",
       " 'savefig',\n",
       " 'sca',\n",
       " 'set',\n",
       " 'set_agg_filter',\n",
       " 'set_alpha',\n",
       " 'set_animated',\n",
       " 'set_canvas',\n",
       " 'set_clip_box',\n",
       " 'set_clip_on',\n",
       " 'set_clip_path',\n",
       " 'set_constrained_layout',\n",
       " 'set_constrained_layout_pads',\n",
       " 'set_contains',\n",
       " 'set_dpi',\n",
       " 'set_edgecolor',\n",
       " 'set_facecolor',\n",
       " 'set_figheight',\n",
       " 'set_figure',\n",
       " 'set_figwidth',\n",
       " 'set_frameon',\n",
       " 'set_gid',\n",
       " 'set_in_layout',\n",
       " 'set_label',\n",
       " 'set_linewidth',\n",
       " 'set_path_effects',\n",
       " 'set_picker',\n",
       " 'set_rasterized',\n",
       " 'set_size_inches',\n",
       " 'set_sketch_params',\n",
       " 'set_snap',\n",
       " 'set_tight_layout',\n",
       " 'set_transform',\n",
       " 'set_url',\n",
       " 'set_visible',\n",
       " 'set_zorder',\n",
       " 'show',\n",
       " 'stale',\n",
       " 'stale_callback',\n",
       " 'sticky_edges',\n",
       " 'subfigs',\n",
       " 'subfigures',\n",
       " 'subplot_mosaic',\n",
       " 'subplotpars',\n",
       " 'subplots',\n",
       " 'subplots_adjust',\n",
       " 'suppressComposite',\n",
       " 'suptitle',\n",
       " 'supxlabel',\n",
       " 'supylabel',\n",
       " 'text',\n",
       " 'texts',\n",
       " 'tight_layout',\n",
       " 'transFigure',\n",
       " 'transSubfigure',\n",
       " 'update',\n",
       " 'update_from',\n",
       " 'waitforbuttonpress',\n",
       " 'zorder']"
      ]
     },
     "execution_count": 76,
     "metadata": {},
     "output_type": "execute_result"
    },
    {
     "data": {
      "image/png": "[encoded data removed]",
      "text/plain": [
       "<Figure size 432x432 with 3 Axes>"
      ]
     },
     "metadata": {
      "needs_background": "light"
     },
     "output_type": "display_data"
    }
   ],
   "source": [
    "jg = sns.jointplot(data=df, y='horse_power', x='acceleration', kind='reg')\n",
    "dir(jg.fig)"
   ]
  },
  {
   "cell_type": "code",
   "execution_count": null,
   "id": "ca4b7ab5",
   "metadata": {},
   "outputs": [],
   "source": []
  }
 ],
 "metadata": {
  "kernelspec": {
   "display_name": "Python 3 (ipykernel)",
   "language": "python",
   "name": "python3"
  },
  "language_info": {
   "codemirror_mode": {
    "name": "ipython",
    "version": 3
   },
   "file_extension": ".py",
   "mimetype": "text/x-python",
   "name": "python",
   "nbconvert_exporter": "python",
   "pygments_lexer": "ipython3",
   "version": "3.8.10"
  }
 },
 "nbformat": 4,
 "nbformat_minor": 5
}
